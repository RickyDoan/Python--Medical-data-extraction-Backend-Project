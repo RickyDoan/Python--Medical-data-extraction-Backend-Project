{
 "cells": [
  {
   "cell_type": "code",
   "execution_count": 37,
   "id": "bdec7372",
   "metadata": {},
   "outputs": [],
   "source": [
    "string = f'He give me the phone number like 7776665551 ad other phone number like 737-112-1291, or 721-7474-32 , but the salary for one day only 120$ and 40 dollars, sometime $12222, 4000 dollars, 1100 $ #hastagabc, #hotest, #bestprice'\n"
   ]
  },
  {
   "cell_type": "code",
   "execution_count": 3,
   "id": "2e8c28a8",
   "metadata": {},
   "outputs": [],
   "source": [
    "import re"
   ]
  },
  {
   "cell_type": "code",
   "execution_count": 4,
   "id": "140b511c",
   "metadata": {},
   "outputs": [
    {
     "name": "stdout",
     "output_type": "stream",
     "text": [
      "['7776665551', '120$']\n"
     ]
    }
   ],
   "source": [
    "text = re.findall(r'\\d{8,}|\\d+\\$',string)\n",
    "print(text)"
   ]
  },
  {
   "cell_type": "code",
   "execution_count": 8,
   "id": "5cfff0b5",
   "metadata": {},
   "outputs": [
    {
     "name": "stdout",
     "output_type": "stream",
     "text": [
      "['7776665551', '120$']\n"
     ]
    }
   ],
   "source": [
    "number , amount = re.findall(r'\\d{8,}|\\d+\\$',string)\n",
    "print(text)"
   ]
  },
  {
   "cell_type": "code",
   "execution_count": 9,
   "id": "952e2afe",
   "metadata": {},
   "outputs": [
    {
     "data": {
      "text/plain": [
       "'7776665551'"
      ]
     },
     "execution_count": 9,
     "metadata": {},
     "output_type": "execute_result"
    }
   ],
   "source": [
    "number"
   ]
  },
  {
   "cell_type": "code",
   "execution_count": 10,
   "id": "d9ef9826",
   "metadata": {},
   "outputs": [
    {
     "data": {
      "text/plain": [
       "'120$'"
      ]
     },
     "execution_count": 10,
     "metadata": {},
     "output_type": "execute_result"
    }
   ],
   "source": [
    "amount"
   ]
  },
  {
   "cell_type": "code",
   "execution_count": 13,
   "id": "f2e9ad37",
   "metadata": {},
   "outputs": [],
   "source": [
    "fm = r'\\d+ dollars| \\d+\\$\\ | \\d{10}'"
   ]
  },
  {
   "cell_type": "code",
   "execution_count": 18,
   "id": "f39f6965",
   "metadata": {},
   "outputs": [
    {
     "name": "stdout",
     "output_type": "stream",
     "text": [
      "[' 7776665551', ' 120$ ', '40 dollars']\n"
     ]
    }
   ],
   "source": [
    "text2 = re.findall(fm,string)\n",
    "print(text2)"
   ]
  },
  {
   "cell_type": "code",
   "execution_count": 23,
   "id": "656f22b9",
   "metadata": {},
   "outputs": [],
   "source": [
    "fm2 = r'#\\w+'"
   ]
  },
  {
   "cell_type": "code",
   "execution_count": 24,
   "id": "8d1b676a",
   "metadata": {},
   "outputs": [
    {
     "name": "stdout",
     "output_type": "stream",
     "text": [
      "['#hastagabc', '#hotest', '#bestprice']\n"
     ]
    }
   ],
   "source": [
    "text3 = re.findall(fm2,string)\n",
    "print(text3)"
   ]
  },
  {
   "cell_type": "code",
   "execution_count": 39,
   "id": "aa55b537",
   "metadata": {},
   "outputs": [],
   "source": [
    "fm3 = '\\d{2,}-\\d{2,}-\\d{2,}|\\d{8,}'"
   ]
  },
  {
   "cell_type": "code",
   "execution_count": 40,
   "id": "a4ce3183",
   "metadata": {},
   "outputs": [
    {
     "data": {
      "text/plain": [
       "['7776665551', '737-112-1291', '721-7474-32']"
      ]
     },
     "execution_count": 40,
     "metadata": {},
     "output_type": "execute_result"
    }
   ],
   "source": [
    "text4 = re.findall(fm3,string)\n",
    "text4"
   ]
  },
  {
   "cell_type": "code",
   "execution_count": 38,
   "id": "0173db65",
   "metadata": {},
   "outputs": [
    {
     "data": {
      "text/plain": [
       "['120$', '40 dollars', ' $12222', '4000 dollars', '1100 $']"
      ]
     },
     "execution_count": 38,
     "metadata": {},
     "output_type": "execute_result"
    }
   ],
   "source": [
    "fm4 = r'\\d{1,}\\ dollars| \\$\\d{1,}|\\d{1,} \\$|\\d{1,}\\$'\n",
    "text5 = re.findall(fm4,string)\n",
    "text5"
   ]
  },
  {
   "cell_type": "code",
   "execution_count": 135,
   "id": "e02970dc",
   "metadata": {
    "scrolled": true
   },
   "outputs": [
    {
     "name": "stdout",
     "output_type": "stream",
     "text": [
      "<re.Match object; span=(6, 46), match='7776665551. Salary for one day only 120$'>\n",
      "7776665551 120\n"
     ]
    }
   ],
   "source": [
    "string2 = 'Phone 7776665551. Salary for one day only 120$'\n",
    "\n",
    "fm5 = '(\\d{10})\\D+(\\d+)\\$'\n",
    "\n",
    "text6 = re.search(fm5, string2)\n",
    "text6\n",
    "if text6:\n",
    "    phone, amount = text6.groups()\n",
    "    print(text6)\n",
    "    print(phone, amount)"
   ]
  },
  {
   "cell_type": "code",
   "execution_count": 183,
   "id": "eb5d2014",
   "metadata": {},
   "outputs": [
    {
     "data": {
      "text/plain": [
       "[('7776665551', '120')]"
      ]
     },
     "execution_count": 183,
     "metadata": {},
     "output_type": "execute_result"
    }
   ],
   "source": [
    "fm6 = '(\\d{10})\\D+(\\d+)\\$'\n",
    "text7 = re.findall(fm6,string2)\n",
    "text7"
   ]
  },
  {
   "cell_type": "code",
   "execution_count": 182,
   "id": "7ee82b7b",
   "metadata": {},
   "outputs": [],
   "source": [
    "text10 = \"\"\"Follow our leader Elon musk on Twitter \n",
    "here: <a href=\"https://twitter.com/elonmusk\" rel=\"nofollow\">https://twitter.com/elonmusk</a>, more information \n",
    "on Tesla's products can be found at <a href=\"https://www.tesla.com/\" rel=\"nofollow\">https://www.tesla.com/</a>. \n",
    "Also here are leading influencers for tesla-related news, \n",
    "<a href=\"https://twitter.com/teslarati\" rel=\"nofollow\">https://twitter.com/teslarati</a>\n",
    "<a href=\"https://twitter.com/dummy_tesla\" rel=\"nofollow\">https://twitter.com/dummy_tesla</a>\n",
    "<a href=\"https://twitter.com/dummy_2_tesla\" rel=\"nofollow\">https://twitter.com/dummy_2_tesla</a>\"\"\""
   ]
  },
  {
   "cell_type": "code",
   "execution_count": 189,
   "id": "c6d34a62",
   "metadata": {},
   "outputs": [
    {
     "data": {
      "text/plain": [
       "{'dummy_2_tesla', 'dummy_tesla', 'teslarati'}"
      ]
     },
     "execution_count": 189,
     "metadata": {},
     "output_type": "execute_result"
    }
   ],
   "source": [
    "pattern5 = 'https://twitter.com/([a-zA-Z0-9_]+)'\n",
    "words = re.findall(pattern5, text10)\n",
    "words\n",
    "word_need = {word for word in words if word in ['dummy_2_tesla', 'dummy_tesla', 'teslarati']}\n",
    "word_need"
   ]
  },
  {
   "cell_type": "code",
   "execution_count": null,
   "id": "11f0a608",
   "metadata": {},
   "outputs": [],
   "source": []
  },
  {
   "cell_type": "code",
   "execution_count": null,
   "id": "ea135365",
   "metadata": {},
   "outputs": [],
   "source": []
  },
  {
   "cell_type": "code",
   "execution_count": null,
   "id": "1d6e9911",
   "metadata": {},
   "outputs": [],
   "source": []
  }
 ],
 "metadata": {
  "kernelspec": {
   "display_name": "Python 3 (ipykernel)",
   "language": "python",
   "name": "python3"
  },
  "language_info": {
   "codemirror_mode": {
    "name": "ipython",
    "version": 3
   },
   "file_extension": ".py",
   "mimetype": "text/x-python",
   "name": "python",
   "nbconvert_exporter": "python",
   "pygments_lexer": "ipython3",
   "version": "3.11.5"
  }
 },
 "nbformat": 4,
 "nbformat_minor": 5
}
