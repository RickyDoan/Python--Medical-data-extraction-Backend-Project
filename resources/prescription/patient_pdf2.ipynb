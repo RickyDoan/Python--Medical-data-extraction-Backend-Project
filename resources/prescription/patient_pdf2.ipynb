{
 "cells": [
  {
   "cell_type": "code",
   "execution_count": 7,
   "id": "88be26f6",
   "metadata": {},
   "outputs": [],
   "source": [
    "import pytesseract\n",
    "from pdf2image import convert_from_path\n",
    "import numpy as np\n",
    "import cv2 as cv\n",
    "\n",
    "path_poppler = '/usr/local/Cellar/poppler/24.04.0_1/bin'\n",
    "pdf_path_patient = '/Users/ricky/Downloads/DATA ANALYST BOOSTCAMP/Booscamp DATA/Python/Project for practicing/Advance-Medical-transformation/Backend/resources/patient_details/pd_1.pdf'\n",
    "\n",
    "def convert_text_from_pdf(file_path):\n",
    "    pages = convert_from_path(file_path, poppler_path=path_poppler)\n",
    "    holder = ''\n",
    "    for page_num, page in enumerate(pages):\n",
    "        page_array = np.array(page)\n",
    "        page_grayscale = cv.cvtColor(page_array, cv.COLOR_BGR2GRAY)\n",
    "        page_resized = cv.resize(page_grayscale, None, fx=0.8, fy= 0.8, interpolation=cv.INTER_LINEAR)\n",
    "        th = cv.adaptiveThreshold(page_resized, 255, cv.ADAPTIVE_THRESH_GAUSSIAN_C, cv.THRESH_BINARY, 65, 10)\n",
    "        text =  pytesseract.image_to_string(th, lang='eng')\n",
    "        holder += f\"page : {page_num + 1}\\n {text}\\n\"\n",
    "    return holder\n"
   ]
  },
  {
   "cell_type": "code",
   "execution_count": 5,
   "id": "26c6b368",
   "metadata": {
    "scrolled": true
   },
   "outputs": [
    {
     "name": "stdout",
     "output_type": "stream",
     "text": [
      "page : 1\n",
      " Patient Medical Record\n",
      "\n",
      "Patient Information\n",
      "Kathy Crawford\n",
      "\n",
      "(737) 988-0851\n",
      "\n",
      "9264 Ash Dr\n",
      "New York City, 10005\n",
      "United States\n",
      "\n",
      "in Case of Emergency\n",
      "\n",
      "Simeone Crawford\n",
      "\n",
      "Home phone\n",
      "(990) 375-4621\n",
      "Genera! Medical History\n",
      "\n",
      "Chicken Pox (Varicella):\n",
      "IMMUNE\n",
      "Have you had the Hepatitis B vaccination?\n",
      "\n",
      "No\n",
      "\n",
      "4711242020\n",
      "\n",
      "Birth Date\n",
      "May 6 1972\n",
      "\n",
      "Weight’\n",
      "95\n",
      "Height:\n",
      "190\n",
      "\n",
      "eo\n",
      "\n",
      "eel\n",
      "\n",
      "9266 Ash Dr\n",
      "New York City, New York, 10005\n",
      "United States\n",
      "\n",
      "Work phone\n",
      "\n",
      "Measles:\n",
      "\n",
      "IMMUNE\n",
      "\n",
      "List any Medical Problems (asthma, seizures, headaches):\n",
      "\n",
      "Migraine\n",
      "\n",
      "page : 2\n",
      " E: Name of Insurance Company:\n",
      "Random Insuarance Company\n",
      "\n",
      "> Policy Number:\n",
      "” 7115207313\n",
      "Do you have medical insurance?\n",
      "Yes:\n",
      "Medical Insurance Details\n",
      "\n",
      "List any allergies:\n",
      "Peanuts\n",
      "\n",
      "List any medication taken regularly:\n",
      "\n",
      "Triptans\n",
      "\n",
      "4789 Bollinger Rd :\n",
      "Jersey City, New Jersey, 07030\n",
      "\n",
      "Expiry Date:\n",
      "30 December 2020\n",
      "\n",
      "\n",
      "\n"
     ]
    }
   ],
   "source": [
    "text = convert_text_from_pdf(pdf_path_patient)\n",
    "print(text)"
   ]
  },
  {
   "cell_type": "code",
   "execution_count": 151,
   "id": "f65a274f",
   "metadata": {},
   "outputs": [],
   "source": [
    "text = '''\n",
    "page 1:\n",
    " Patient Medical Record\n",
    "\n",
    "Patient Information\n",
    "Kathy Crawford\n",
    "\n",
    "(737) 988-0851\n",
    "9264 Ash Dr\n",
    "\n",
    "New York City, 10005\n",
    "United States\n",
    "\n",
    "In Case of Emergency\n",
    "\n",
    "Simeone Crawford\n",
    "\n",
    "Home phone\n",
    "(990) 375-4621\n",
    "\n",
    "Genera! Medical History\n",
    "oes EF FD a a GO _ aj) ia\n",
    "\n",
    "Chicken Pox (Varicella):\n",
    "\n",
    "IMMUNE\n",
    "\n",
    "Have you had the Hepatitis B vaccination?\n",
    "\n",
    "No\n",
    "\n",
    "4711242020\n",
    "\n",
    "Birth Date\n",
    "May 6 1972\n",
    "\n",
    "Weight\n",
    "95\n",
    "Height:\n",
    "190\n",
    "\n",
    "_\n",
    "\n",
    "eel\n",
    "\n",
    "9266 Ash Dr\n",
    "New York City, New York, 10005\n",
    "United States\n",
    "\n",
    "Work phone\n",
    "\n",
    "Measles:\n",
    "\n",
    "IMMUNE\n",
    "\n",
    "List any Medical Problems (asthma, seizures, headaches):\n",
    "\n",
    "Migraine\n",
    "'''"
   ]
  },
  {
   "cell_type": "code",
   "execution_count": 89,
   "id": "09cd283f",
   "metadata": {},
   "outputs": [],
   "source": [
    "import re"
   ]
  },
  {
   "cell_type": "markdown",
   "id": "68eaea6d",
   "metadata": {},
   "source": []
  },
  {
   "cell_type": "code",
   "execution_count": 152,
   "id": "e9c35db2",
   "metadata": {
    "scrolled": true
   },
   "outputs": [
    {
     "name": "stdout",
     "output_type": "stream",
     "text": [
      "Kathy Crawford\n"
     ]
    }
   ],
   "source": [
    "pattern = 'Patient Information\\s([^\\n]+)'\n",
    "name = re.findall(pattern, text, re.DOTALL)\n",
    "name = name[0].strip()\n",
    "name\n",
    "# name = name[0].strip()\n",
    "# name = name.replace(date,'').strip()\n",
    "# pattern = 'Information.* ((April|June) \\d+ \\d{4})'\n",
    "# date = re.findall(pattern, text, re.DOTALL)\n",
    "# date = date[0][0].strip()\n",
    "# date\n",
    "\n",
    "print(name)"
   ]
  },
  {
   "cell_type": "code",
   "execution_count": 106,
   "id": "c8c7759d",
   "metadata": {},
   "outputs": [
    {
     "data": {
      "text/plain": [
       "'June 6 1972'"
      ]
     },
     "execution_count": 106,
     "metadata": {},
     "output_type": "execute_result"
    }
   ],
   "source": []
  },
  {
   "cell_type": "code",
   "execution_count": 116,
   "id": "7c8e706c",
   "metadata": {},
   "outputs": [
    {
     "data": {
      "text/plain": [
       "'Kathy Crawford'"
      ]
     },
     "execution_count": 116,
     "metadata": {},
     "output_type": "execute_result"
    }
   ],
   "source": [
    "def get_name(file):\n",
    "    pattern = 'Patient Information\\s([^\\n]+)'\n",
    "    name = re.findall(pattern, file, re.DOTALL)\n",
    "    name = name[0].strip()\n",
    "    pattern_date = 'Information.* ((April|June) \\d+ \\d{4})'\n",
    "    date = re.findall(pattern_date, text, re.DOTALL)\n",
    "    date = date[0][0].strip()\n",
    "    name = name.replace(date,'').strip()\n",
    "    return name\n",
    "\n",
    "get_name(text)"
   ]
  },
  {
   "cell_type": "code",
   "execution_count": 164,
   "id": "d45ffae8",
   "metadata": {},
   "outputs": [
    {
     "name": "stdout",
     "output_type": "stream",
     "text": [
      "(737) 988-0851\n"
     ]
    }
   ],
   "source": [
    "pattern = 'Patient Information\\s[^\\n]+\\s\\n([^\\n]+)'\n",
    "phone = re.findall(pattern, text, re.DOTALL)\n",
    "print(phone[0].strip())"
   ]
  },
  {
   "cell_type": "code",
   "execution_count": 159,
   "id": "8eac58ed",
   "metadata": {},
   "outputs": [
    {
     "name": "stdout",
     "output_type": "stream",
     "text": [
      "New York City, 10005\n",
      "United States\n"
     ]
    }
   ],
   "source": [
    "# Patient Information\\s.*\\s.*\\s.*\\s.*\\s\\n(.*\\s.*)\n",
    "pattern_address = 'Patient Information\\s[^\\n]+\\s\\n[^\\n]+\\s[^\\n]+\\n(.*)In Case'\n",
    "address = re.findall(pattern_address, text, re.DOTALL)\n",
    "print(address[0].strip())"
   ]
  },
  {
   "cell_type": "code",
   "execution_count": 161,
   "id": "1e1ec3d3",
   "metadata": {},
   "outputs": [
    {
     "name": "stdout",
     "output_type": "stream",
     "text": [
      "No\n"
     ]
    }
   ],
   "source": [
    "pattern_vaccination = 'vaccination[^\\n]\\s*([^\\n]+)'\n",
    "vaccination = re.findall(pattern_vaccination, text, re.DOTALL)\n",
    "print(vaccination[0].strip())"
   ]
  },
  {
   "cell_type": "code",
   "execution_count": 163,
   "id": "56a70c09",
   "metadata": {},
   "outputs": [
    {
     "name": "stdout",
     "output_type": "stream",
     "text": [
      "Migraine\n"
     ]
    }
   ],
   "source": [
    "pattern_medical_proplems = 'List[^\\n]+\\s*([^\\n]+)'\n",
    "medical_problems = re.findall(pattern_medical_proplems, text, re.DOTALL)\n",
    "print(medical_problems[0].strip())\n",
    "# List[^\\n]+\\s*([^\\n]+)"
   ]
  },
  {
   "cell_type": "code",
   "execution_count": null,
   "id": "c0db7b03",
   "metadata": {},
   "outputs": [],
   "source": []
  },
  {
   "cell_type": "code",
   "execution_count": null,
   "id": "2628beb3",
   "metadata": {},
   "outputs": [],
   "source": []
  },
  {
   "cell_type": "code",
   "execution_count": null,
   "id": "86018b71",
   "metadata": {},
   "outputs": [],
   "source": []
  }
 ],
 "metadata": {
  "kernelspec": {
   "display_name": "Python 3 (ipykernel)",
   "language": "python",
   "name": "python3"
  },
  "language_info": {
   "codemirror_mode": {
    "name": "ipython",
    "version": 3
   },
   "file_extension": ".py",
   "mimetype": "text/x-python",
   "name": "python",
   "nbconvert_exporter": "python",
   "pygments_lexer": "ipython3",
   "version": "3.11.5"
  }
 },
 "nbformat": 4,
 "nbformat_minor": 5
}
